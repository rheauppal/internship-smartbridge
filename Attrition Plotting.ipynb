{
 "cells": [
  {
   "cell_type": "code",
   "execution_count": 1,
   "metadata": {},
   "outputs": [],
   "source": [
    "import seaborn as sns\n",
    "import pandas as pd\n",
    "import numpy as np\n",
    "import matplotlib.pyplot as plt\n",
    "data=pd.read_csv('attrition.csv')"
   ]
  },
  {
   "cell_type": "code",
   "execution_count": 2,
   "metadata": {},
   "outputs": [
    {
     "data": {
      "text/html": [
       "<div>\n",
       "<style scoped>\n",
       "    .dataframe tbody tr th:only-of-type {\n",
       "        vertical-align: middle;\n",
       "    }\n",
       "\n",
       "    .dataframe tbody tr th {\n",
       "        vertical-align: top;\n",
       "    }\n",
       "\n",
       "    .dataframe thead th {\n",
       "        text-align: right;\n",
       "    }\n",
       "</style>\n",
       "<table border=\"1\" class=\"dataframe\">\n",
       "  <thead>\n",
       "    <tr style=\"text-align: right;\">\n",
       "      <th></th>\n",
       "      <th>Age</th>\n",
       "      <th>Attrition</th>\n",
       "      <th>BusinessTravel</th>\n",
       "      <th>DailyRate</th>\n",
       "      <th>Department</th>\n",
       "      <th>DistanceFromHome</th>\n",
       "      <th>Education</th>\n",
       "      <th>EducationField</th>\n",
       "      <th>EmployeeCount</th>\n",
       "      <th>EmployeeNumber</th>\n",
       "      <th>...</th>\n",
       "      <th>RelationshipSatisfaction</th>\n",
       "      <th>StandardHours</th>\n",
       "      <th>StockOptionLevel</th>\n",
       "      <th>TotalWorkingYears</th>\n",
       "      <th>TrainingTimesLastYear</th>\n",
       "      <th>WorkLifeBalance</th>\n",
       "      <th>YearsAtCompany</th>\n",
       "      <th>YearsInCurrentRole</th>\n",
       "      <th>YearsSinceLastPromotion</th>\n",
       "      <th>YearsWithCurrManager</th>\n",
       "    </tr>\n",
       "  </thead>\n",
       "  <tbody>\n",
       "    <tr>\n",
       "      <th>0</th>\n",
       "      <td>41</td>\n",
       "      <td>Yes</td>\n",
       "      <td>Travel_Rarely</td>\n",
       "      <td>1102</td>\n",
       "      <td>Sales</td>\n",
       "      <td>1</td>\n",
       "      <td>2</td>\n",
       "      <td>Life Sciences</td>\n",
       "      <td>1</td>\n",
       "      <td>1</td>\n",
       "      <td>...</td>\n",
       "      <td>1</td>\n",
       "      <td>80</td>\n",
       "      <td>0</td>\n",
       "      <td>8</td>\n",
       "      <td>0</td>\n",
       "      <td>1</td>\n",
       "      <td>6</td>\n",
       "      <td>4</td>\n",
       "      <td>0</td>\n",
       "      <td>5</td>\n",
       "    </tr>\n",
       "    <tr>\n",
       "      <th>1</th>\n",
       "      <td>49</td>\n",
       "      <td>No</td>\n",
       "      <td>Travel_Frequently</td>\n",
       "      <td>279</td>\n",
       "      <td>Research &amp; Development</td>\n",
       "      <td>8</td>\n",
       "      <td>1</td>\n",
       "      <td>Life Sciences</td>\n",
       "      <td>1</td>\n",
       "      <td>2</td>\n",
       "      <td>...</td>\n",
       "      <td>4</td>\n",
       "      <td>80</td>\n",
       "      <td>1</td>\n",
       "      <td>10</td>\n",
       "      <td>3</td>\n",
       "      <td>3</td>\n",
       "      <td>10</td>\n",
       "      <td>7</td>\n",
       "      <td>1</td>\n",
       "      <td>7</td>\n",
       "    </tr>\n",
       "    <tr>\n",
       "      <th>2</th>\n",
       "      <td>37</td>\n",
       "      <td>Yes</td>\n",
       "      <td>Travel_Rarely</td>\n",
       "      <td>1373</td>\n",
       "      <td>Research &amp; Development</td>\n",
       "      <td>2</td>\n",
       "      <td>2</td>\n",
       "      <td>Other</td>\n",
       "      <td>1</td>\n",
       "      <td>4</td>\n",
       "      <td>...</td>\n",
       "      <td>2</td>\n",
       "      <td>80</td>\n",
       "      <td>0</td>\n",
       "      <td>7</td>\n",
       "      <td>3</td>\n",
       "      <td>3</td>\n",
       "      <td>0</td>\n",
       "      <td>0</td>\n",
       "      <td>0</td>\n",
       "      <td>0</td>\n",
       "    </tr>\n",
       "    <tr>\n",
       "      <th>3</th>\n",
       "      <td>33</td>\n",
       "      <td>No</td>\n",
       "      <td>Travel_Frequently</td>\n",
       "      <td>1392</td>\n",
       "      <td>Research &amp; Development</td>\n",
       "      <td>3</td>\n",
       "      <td>4</td>\n",
       "      <td>Life Sciences</td>\n",
       "      <td>1</td>\n",
       "      <td>5</td>\n",
       "      <td>...</td>\n",
       "      <td>3</td>\n",
       "      <td>80</td>\n",
       "      <td>0</td>\n",
       "      <td>8</td>\n",
       "      <td>3</td>\n",
       "      <td>3</td>\n",
       "      <td>8</td>\n",
       "      <td>7</td>\n",
       "      <td>3</td>\n",
       "      <td>0</td>\n",
       "    </tr>\n",
       "    <tr>\n",
       "      <th>4</th>\n",
       "      <td>27</td>\n",
       "      <td>No</td>\n",
       "      <td>Travel_Rarely</td>\n",
       "      <td>591</td>\n",
       "      <td>Research &amp; Development</td>\n",
       "      <td>2</td>\n",
       "      <td>1</td>\n",
       "      <td>Medical</td>\n",
       "      <td>1</td>\n",
       "      <td>7</td>\n",
       "      <td>...</td>\n",
       "      <td>4</td>\n",
       "      <td>80</td>\n",
       "      <td>1</td>\n",
       "      <td>6</td>\n",
       "      <td>3</td>\n",
       "      <td>3</td>\n",
       "      <td>2</td>\n",
       "      <td>2</td>\n",
       "      <td>2</td>\n",
       "      <td>2</td>\n",
       "    </tr>\n",
       "  </tbody>\n",
       "</table>\n",
       "<p>5 rows × 35 columns</p>\n",
       "</div>"
      ],
      "text/plain": [
       "   Age Attrition     BusinessTravel  DailyRate              Department  \\\n",
       "0   41       Yes      Travel_Rarely       1102                   Sales   \n",
       "1   49        No  Travel_Frequently        279  Research & Development   \n",
       "2   37       Yes      Travel_Rarely       1373  Research & Development   \n",
       "3   33        No  Travel_Frequently       1392  Research & Development   \n",
       "4   27        No      Travel_Rarely        591  Research & Development   \n",
       "\n",
       "   DistanceFromHome  Education EducationField  EmployeeCount  EmployeeNumber  \\\n",
       "0                 1          2  Life Sciences              1               1   \n",
       "1                 8          1  Life Sciences              1               2   \n",
       "2                 2          2          Other              1               4   \n",
       "3                 3          4  Life Sciences              1               5   \n",
       "4                 2          1        Medical              1               7   \n",
       "\n",
       "   ...  RelationshipSatisfaction StandardHours  StockOptionLevel  \\\n",
       "0  ...                         1            80                 0   \n",
       "1  ...                         4            80                 1   \n",
       "2  ...                         2            80                 0   \n",
       "3  ...                         3            80                 0   \n",
       "4  ...                         4            80                 1   \n",
       "\n",
       "   TotalWorkingYears  TrainingTimesLastYear WorkLifeBalance  YearsAtCompany  \\\n",
       "0                  8                      0               1               6   \n",
       "1                 10                      3               3              10   \n",
       "2                  7                      3               3               0   \n",
       "3                  8                      3               3               8   \n",
       "4                  6                      3               3               2   \n",
       "\n",
       "  YearsInCurrentRole  YearsSinceLastPromotion  YearsWithCurrManager  \n",
       "0                  4                        0                     5  \n",
       "1                  7                        1                     7  \n",
       "2                  0                        0                     0  \n",
       "3                  7                        3                     0  \n",
       "4                  2                        2                     2  \n",
       "\n",
       "[5 rows x 35 columns]"
      ]
     },
     "execution_count": 2,
     "metadata": {},
     "output_type": "execute_result"
    }
   ],
   "source": [
    "data.head()"
   ]
  },
  {
   "cell_type": "code",
   "execution_count": 3,
   "metadata": {},
   "outputs": [
    {
     "data": {
      "text/plain": [
       "(1470, 35)"
      ]
     },
     "execution_count": 3,
     "metadata": {},
     "output_type": "execute_result"
    }
   ],
   "source": [
    "data.shape\n",
    "    "
   ]
  },
  {
   "cell_type": "code",
   "execution_count": 4,
   "metadata": {},
   "outputs": [
    {
     "data": {
      "text/plain": [
       "array(['Sales', 'Research & Development', 'Human Resources'], dtype=object)"
      ]
     },
     "execution_count": 4,
     "metadata": {},
     "output_type": "execute_result"
    }
   ],
   "source": [
    "data[\"Department\"].unique()"
   ]
  },
  {
   "cell_type": "code",
   "execution_count": 5,
   "metadata": {},
   "outputs": [],
   "source": [
    "count1=0\n",
    "count2=0\n",
    "count3=0\n",
    "count4=0\n",
    "count5=0\n",
    "count6=0\n",
    "for i in data.index:\n",
    "    if(data[\"Department\"][i]=='Sales' and data['Attrition'][i]=='Yes'):\n",
    "        count1=count1+1;\n",
    "    if(data[\"Department\"][i]=='Sales' and data['Attrition'][i]=='No'):\n",
    "        count2=count2+1;\n",
    "    if(data[\"Department\"][i]=='Research & Development' and data['Attrition'][i]=='Yes'):\n",
    "        count3=count3+1;\n",
    "    if(data[\"Department\"][i]=='Research & Development' and data['Attrition'][i]=='No'):\n",
    "        count4=count4+1;\n",
    "    if(data[\"Department\"][i]=='Human Resources' and data['Attrition'][i]=='Yes'):\n",
    "        count5=count5+1;\n",
    "    if(data[\"Department\"][i]=='Human Resources' and data['Attrition'][i]=='No'):\n",
    "        count6=count6+1;                          "
   ]
  },
  {
   "cell_type": "code",
   "execution_count": 6,
   "metadata": {},
   "outputs": [
    {
     "data": {
      "text/plain": [
       "92"
      ]
     },
     "execution_count": 6,
     "metadata": {},
     "output_type": "execute_result"
    }
   ],
   "source": [
    "count1"
   ]
  },
  {
   "cell_type": "code",
   "execution_count": 7,
   "metadata": {},
   "outputs": [
    {
     "data": {
      "text/plain": [
       "354"
      ]
     },
     "execution_count": 7,
     "metadata": {},
     "output_type": "execute_result"
    }
   ],
   "source": [
    "count2"
   ]
  },
  {
   "cell_type": "code",
   "execution_count": 8,
   "metadata": {},
   "outputs": [
    {
     "data": {
      "image/png": "[encoded data removed]",
      "text/plain": [
       "<Figure size 432x288 with 1 Axes>"
      ]
     },
     "metadata": {
      "needs_background": "light"
     },
     "output_type": "display_data"
    }
   ],
   "source": [
    "x=0\n",
    "x_=('Sales','Research and development','Human Resources')\n",
    "ax = plt.subplot(111)\n",
    "ax.bar(x-0.2, count1, width=0.2, color='g', align='center',label='yes')\n",
    "ax.bar(x, count2, width=0.2, color='r', align='center',label='no')\n",
    "ax.bar(x+0.4, count3, width=0.2, color='g', align='center')\n",
    "ax.bar(x+0.6, count4, width=0.2, color='r', align='center')\n",
    "ax.bar(x+1.0, count5, width=0.2, color='g', align='center')\n",
    "ax.bar(x+1.2, count6, width=0.2, color='r', align='center')\n",
    "plt.xticks([-0.1,0.5,1.1],('Sales','R&D','Human Resources'))\n",
    "plt.xlabel(\"Department\")\n",
    "plt.legend();\n",
    "plt.show()"
   ]
  },
  {
   "cell_type": "code",
   "execution_count": 9,
   "metadata": {},
   "outputs": [
    {
     "data": {
      "text/plain": [
       "354"
      ]
     },
     "execution_count": 9,
     "metadata": {},
     "output_type": "execute_result"
    }
   ],
   "source": [
    "count2\n"
   ]
  },
  {
   "cell_type": "code",
   "execution_count": 10,
   "metadata": {},
   "outputs": [
    {
     "data": {
      "text/plain": [
       "array(['Travel_Rarely', 'Travel_Frequently', 'Non-Travel'], dtype=object)"
      ]
     },
     "execution_count": 10,
     "metadata": {},
     "output_type": "execute_result"
    }
   ],
   "source": [
    "data[\"BusinessTravel\"].unique()"
   ]
  },
  {
   "cell_type": "code",
   "execution_count": 11,
   "metadata": {},
   "outputs": [],
   "source": [
    "count1=0\n",
    "count2=0\n",
    "count3=0\n",
    "count4=0\n",
    "count5=0\n",
    "count6=0\n",
    "for i in data.index:\n",
    "    if(data[\"BusinessTravel\"][i]=='Travel_Rarely' and data['Attrition'][i]=='Yes'):\n",
    "        count1=count1+1;\n",
    "    if(data[\"BusinessTravel\"][i]=='Travel_Rarely' and data['Attrition'][i]=='No'):\n",
    "        count2=count2+1;\n",
    "    if(data[\"BusinessTravel\"][i]=='Travel_Frequently' and data['Attrition'][i]=='Yes'):\n",
    "        count3=count3+1;\n",
    "    if(data[\"BusinessTravel\"][i]=='Travel_Frequently' and data['Attrition'][i]=='No'):\n",
    "        count4=count4+1;\n",
    "    if(data[\"BusinessTravel\"][i]=='Non-Travel' and data['Attrition'][i]=='Yes'):\n",
    "        count5=count5+1;\n",
    "    if(data[\"BusinessTravel\"][i]=='Non-Travel' and data['Attrition'][i]=='No'):\n",
    "        count6=count6+1;                          "
   ]
  },
  {
   "cell_type": "code",
   "execution_count": 12,
   "metadata": {},
   "outputs": [
    {
     "data": {
      "image/png": "[encoded data removed]",
      "text/plain": [
       "<Figure size 432x288 with 1 Axes>"
      ]
     },
     "metadata": {
      "needs_background": "light"
     },
     "output_type": "display_data"
    }
   ],
   "source": [
    "x=0\n",
    "x_=('Travel_Rarely','Travel_Frequently','Non-Travel')\n",
    "ax = plt.subplot(111)\n",
    "ax.bar(x-0.2, count1, width=0.2, color='y', align='center',label='yes')\n",
    "ax.bar(x, count2, width=0.2, color='c', align='center',label='no')\n",
    "ax.bar(x+0.4, count3, width=0.2, color='y', align='center')\n",
    "ax.bar(x+0.6, count4, width=0.2, color='c', align='center')\n",
    "ax.bar(x+1.0, count5, width=0.2, color='y', align='center')\n",
    "ax.bar(x+1.2, count6, width=0.2, color='c', align='center')\n",
    "plt.xticks([-0.1,0.5,1.1],('Travel_Rarely','Travel_Frequently','Non-Travel'))\n",
    "plt.xlabel(\"BusinessTravel\")\n",
    "plt.legend();\n",
    "plt.show()"
   ]
  },
  {
   "cell_type": "code",
   "execution_count": 13,
   "metadata": {},
   "outputs": [],
   "source": [
    "count1=0\n",
    "count2=0\n",
    "count3=0\n",
    "count4=0\n",
    "count5=0\n",
    "count6=0\n",
    "for i in data.index:\n",
    "    if(data[\"Age\"][i]<=20 and data['Attrition'][i]=='Yes'):\n",
    "        count1=count1+1;\n",
    "    if(data[\"Age\"][i]<=20 and data['Attrition'][i]=='No'):\n",
    "        count2=count2+1;\n",
    "    if(data[\"Age\"][i]>20 and data[\"Age\"][i]<=40 and data['Attrition'][i]=='Yes'):\n",
    "        count3=count3+1;\n",
    "    if(data[\"Age\"][i]>20 and data[\"Age\"][i]<=40 and data['Attrition'][i]=='No'):\n",
    "        count4=count4+1;\n",
    "    if(data[\"Age\"][i]>40 and data[\"Age\"][i]<=60 and data['Attrition'][i]=='Yes'):\n",
    "        count5=count5+1;\n",
    "    if(data[\"Age\"][i]>40 and data[\"Age\"][i]<=60 and data['Attrition'][i]=='No'):\n",
    "        count6=count6+1;                          \n"
   ]
  },
  {
   "cell_type": "code",
   "execution_count": 14,
   "metadata": {},
   "outputs": [
    {
     "data": {
      "image/png": "[encoded data removed]",
      "text/plain": [
       "<Figure size 432x288 with 1 Axes>"
      ]
     },
     "metadata": {
      "needs_background": "light"
     },
     "output_type": "display_data"
    }
   ],
   "source": [
    "x=0\n",
    "\n",
    "ax = plt.subplot(111)\n",
    "ax.bar(x-0.2, count1, width=0.2, color='c', align='center',label='yes')\n",
    "ax.bar(x, count2, width=0.2, color='k', align='center',label='no')\n",
    "ax.bar(x+0.4, count3, width=0.2, color='c', align='center')\n",
    "ax.bar(x+0.6, count4, width=0.2, color='k', align='center')\n",
    "ax.bar(x+1.0, count5, width=0.2, color='c', align='center')\n",
    "ax.bar(x+1.2, count6, width=0.2, color='k', align='center')\n",
    "plt.xticks([-0.1,0.5,1.1],('Below 20','20-40','40-60'))\n",
    "plt.xlabel(\"Age\")\n",
    "plt.legend();\n",
    "plt.show()"
   ]
  },
  {
   "cell_type": "code",
   "execution_count": 15,
   "metadata": {},
   "outputs": [],
   "source": [
    "count1=0\n",
    "count2=0\n",
    "count3=0\n",
    "count4=0\n",
    "count5=0\n",
    "count6=0\n",
    "count7=0\n",
    "count8=0\n",
    "count9=0\n",
    "count10=0\n",
    "for i in data.index:\n",
    "    if(data[\"RelationshipSatisfaction\"][i]==1 and data['Attrition'][i]=='Yes'):\n",
    "        count1=count1+1\n",
    "    if(data[\"RelationshipSatisfaction\"][i]==1 and data['Attrition'][i]=='No'):\n",
    "        count2=count2+1\n",
    "    if(data[\"RelationshipSatisfaction\"][i]==2 and data['Attrition'][i]=='Yes'):\n",
    "        count3=count3+1\n",
    "    if(data[\"RelationshipSatisfaction\"][i]==2 and data['Attrition'][i]=='No'):\n",
    "        count4=count4+1\n",
    "    if(data[\"RelationshipSatisfaction\"][i]==3 and data['Attrition'][i]=='Yes'):\n",
    "        count5=count5+1\n",
    "    if(data[\"RelationshipSatisfaction\"][i]==3 and data['Attrition'][i]=='No'):\n",
    "        count6=count6+1\n",
    "    if(data[\"RelationshipSatisfaction\"][i]==4 and data['Attrition'][i]=='Yes'):\n",
    "        count7=count7+1\n",
    "    if(data[\"RelationshipSatisfaction\"][i]==4 and data['Attrition'][i]=='No'):\n",
    "        count8=count8+1\n",
    "    if(data[\"RelationshipSatisfaction\"][i]==5 and data['Attrition'][i]=='Yes'):\n",
    "        count9=count9+1\n",
    "    if(data[\"RelationshipSatisfaction\"][i]==5 and data['Attrition'][i]=='No'):\n",
    "        count10=count10+1"
   ]
  },
  {
   "cell_type": "code",
   "execution_count": 16,
   "metadata": {},
   "outputs": [
    {
     "data": {
      "image/png": "[encoded data removed]",
      "text/plain": [
       "<Figure size 432x288 with 1 Axes>"
      ]
     },
     "metadata": {
      "needs_background": "light"
     },
     "output_type": "display_data"
    }
   ],
   "source": [
    "x=0\n",
    "\n",
    "ax = plt.subplot(111)\n",
    "ax.bar(x-0.2, count1, width=0.2, color='y', align='center',label='yes')\n",
    "ax.bar(x, count2, width=0.2, color='k', align='center',label='no')\n",
    "ax.bar(x+0.4, count3, width=0.2, color='y', align='center')\n",
    "ax.bar(x+0.6, count4, width=0.2, color='k', align='center')\n",
    "ax.bar(x+1.0, count5, width=0.2, color='y', align='center')\n",
    "ax.bar(x+1.2, count6, width=0.2, color='k', align='center')\n",
    "ax.bar(x+1.6, count7, width=0.2, color='y', align='center')\n",
    "ax.bar(x+1.8, count8, width=0.2, color='k', align='center')\n",
    "ax.bar(x+2.2, count9, width=0.2, color='y', align='center')\n",
    "ax.bar(x+2.4, count10, width=0.2, color='k', align='center')\n",
    "plt.xticks([-0.1,0.5,1.1,1.7,2.1],('1','2','3','4','5'))\n",
    "plt.xlabel(\"RelationshipStatus\")\n",
    "plt.legend();\n",
    "plt.show()"
   ]
  },
  {
   "cell_type": "code",
   "execution_count": null,
   "metadata": {},
   "outputs": [],
   "source": []
  },
  {
   "cell_type": "code",
   "execution_count": null,
   "metadata": {},
   "outputs": [],
   "source": []
  }
 ],
 "metadata": {
  "kernelspec": {
   "display_name": "Python 3",
   "language": "python",
   "name": "python3"
  },
  "language_info": {
   "codemirror_mode": {
    "name": "ipython",
    "version": 3
   },
   "file_extension": ".py",
   "mimetype": "text/x-python",
   "name": "python",
   "nbconvert_exporter": "python",
   "pygments_lexer": "ipython3",
   "version": "3.7.6"
  }
 },
 "nbformat": 4,
 "nbformat_minor": 2
}
